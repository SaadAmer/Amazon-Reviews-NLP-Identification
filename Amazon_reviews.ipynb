{
  "nbformat": 4,
  "nbformat_minor": 0,
  "metadata": {
    "kernelspec": {
      "display_name": "Python 2",
      "language": "python",
      "name": "python2"
    },
    "language_info": {
      "codemirror_mode": {
        "name": "ipython",
        "version": 2
      },
      "file_extension": ".py",
      "mimetype": "text/x-python",
      "name": "python",
      "nbconvert_exporter": "python",
      "pygments_lexer": "ipython2",
      "version": "2.7.16"
    },
    "colab": {
      "name": "lab2_Q123_SOLUTIONS.ipynb",
      "provenance": [],
      "collapsed_sections": []
    }
  },
  "cells": [
    {
      "cell_type": "code",
      "metadata": {
        "id": "iGG7YRuQxEUL",
        "outputId": "52c2c205-786f-4d58-93e5-2819d7d9801d",
        "colab": {
          "base_uri": "https://localhost:8080/",
          "height": 70
        }
      },
      "source": [
        "!pip install unicodecsv\n",
        "import nltk\n",
        "nltk.download('stopwords')\n",
        "from __future__ import division\n",
        "import unicodecsv                               # csv reader\n",
        "import re                                       # regular expressions\n",
        "from sklearn.svm import LinearSVC\n",
        "from nltk.classify import SklearnClassifier\n",
        "\n",
        "\n",
        "from nltk.stem import WordNetLemmatizer\n",
        "from nltk import word_tokenize\n",
        "from nltk.tokenize import RegexpTokenizer\n",
        "from nltk.corpus import stopwords\n",
        "from sklearn.model_selection import cross_val_score\n",
        "from sklearn import metrics\n",
        "from sklearn.metrics import precision_recall_fscore_support # to report on precision and recall\n",
        "from random import shuffle\n",
        "import numpy as np"
      ],
      "execution_count": null,
      "outputs": [
        {
          "output_type": "stream",
          "text": [
            "Requirement already satisfied: unicodecsv in /usr/local/lib/python2.7/dist-packages (0.14.1)\n",
            "[nltk_data] Downloading package stopwords to /root/nltk_data...\n",
            "[nltk_data]   Unzipping corpora/stopwords.zip.\n"
          ],
          "name": "stdout"
        }
      ]
    },
    {
      "cell_type": "code",
      "metadata": {
        "id": "WQKbXowuxEUP"
      },
      "source": [
        "from collections import Counter"
      ],
      "execution_count": null,
      "outputs": []
    },
    {
      "cell_type": "code",
      "metadata": {
        "id": "1l2F_X60xEUR",
        "outputId": "7ec94a3a-a333-45af-c2f0-8d8569c4b1f7",
        "colab": {
          "base_uri": "https://localhost:8080/",
          "height": 70
        }
      },
      "source": [
        "import nltk\n",
        "nltk.download('wordnet')"
      ],
      "execution_count": null,
      "outputs": [
        {
          "output_type": "stream",
          "text": [
            "[nltk_data] Downloading package wordnet to /root/nltk_data...\n",
            "[nltk_data]   Package wordnet is already up-to-date!\n"
          ],
          "name": "stdout"
        },
        {
          "output_type": "execute_result",
          "data": {
            "text/plain": [
              "True"
            ]
          },
          "metadata": {
            "tags": []
          },
          "execution_count": 12
        }
      ]
    },
    {
      "cell_type": "code",
      "metadata": {
        "id": "h8SYzjB0xEUU"
      },
      "source": [
        "# load data from a file and append it to the tweetData\n",
        "def loadData(path, reviewText=None):\n",
        "    with open(path, 'rb') as f:\n",
        "        reader = unicodecsv.reader(f, encoding='utf-8', delimiter='\\t')\n",
        "        reader.next()\n",
        "        for line in reader:\n",
        "            (reviewId, reviewText, label) = parseReview(line)\n",
        "            rawData.append((reviewId, reviewText, label))\n",
        "            \n",
        "def splitData(percentage):\n",
        "    dataSamples = len(rawData)\n",
        "    halfOfData = int(len(rawData)/2)\n",
        "    trainingSamples = int((percentage*dataSamples)/2)\n",
        "    for (_,reviewText,label) in rawData[:trainingSamples] + rawData[halfOfData:halfOfData+trainingSamples]:\n",
        "        trainData.append((toFeatureVector(preProcess(reviewText)),label))\n",
        "    for (_,reviewText,label) in rawData[trainingSamples:halfOfData] + rawData[halfOfData+trainingSamples:]:\n",
        "        testData.append((toFeatureVector(preProcess(reviewText)),label))\n",
        "        \n",
        "        "
      ],
      "execution_count": null,
      "outputs": []
    },
    {
      "cell_type": "code",
      "metadata": {
        "id": "OiSgZHkixEUW"
      },
      "source": [
        "# QUESTION 1\n",
        "\n",
        "# the output classes\n",
        "fakeLabel = 'fake'\n",
        "realLabel = 'real'\n",
        "labelMap = {'__label1__' : fakeLabel, '__label2__' : realLabel}\n",
        "\n",
        "# Convert line from input file into an id/text/label tuple\n",
        "def parseReview(reviewLine):\n",
        "    # Should return a triple of an integer, a string containing the review, and a string indicating the label\n",
        "    \n",
        "    reviewId    = int(reviewLine[0])\n",
        "    reviewText  = reviewLine[8]\n",
        "    reviewLabel = labelMap[reviewLine[1]]\n",
        "    \n",
        "    return (reviewId, reviewText, reviewLabel)\n"
      ],
      "execution_count": null,
      "outputs": []
    },
    {
      "cell_type": "code",
      "metadata": {
        "id": "xSd5KlGzxEUY",
        "outputId": "cd57036f-cdb6-41f9-eaeb-3720b033198e",
        "colab": {
          "base_uri": "https://localhost:8080/",
          "height": 35
        }
      },
      "source": [
        "# TEXT PREPROCESSING AND FEATURE VECTORIZATION\n",
        "\n",
        "# input: a string of one review\n",
        "def preProcess(text):\n",
        "    # should return a list of tokens\n",
        "    \n",
        "    # word tokenisation, including punctuation removal\n",
        "    tokenizer = RegexpTokenizer(r'\\w+')\n",
        "    tokens = tokenizer.tokenize(text)\n",
        "    \n",
        "    # lowercasing\n",
        "    tokens = [t.lower() for t in tokens]\n",
        "\n",
        "    # stopword removal\n",
        "    stop = set(stopwords.words('english'))\n",
        "    tokens = [t for t in tokens if t not in stop]\n",
        "    \n",
        "    # lemmatisation\n",
        "    lemmatiser = WordNetLemmatizer()\n",
        "    tokens = [lemmatiser.lemmatize(t) for t in tokens]\n",
        "    \n",
        "    return tokens\n",
        "\n",
        "print(preProcess(\"hello this is the, ehh... presumably, a crying situations!\"))"
      ],
      "execution_count": null,
      "outputs": [
        {
          "output_type": "stream",
          "text": [
            "['hello', 'ehh', 'presumably', u'cry', u'situation']\n"
          ],
          "name": "stdout"
        }
      ]
    },
    {
      "cell_type": "code",
      "metadata": {
        "id": "Qq5cfrxyxEUa"
      },
      "source": [
        "# QUESTION 2\n",
        "\n",
        "def toFeatureVector(words):\n",
        "    # return a dictionary 'featureVect' where the keys are the tokens in 'words' and the values are the number of occurrences of the tokens\n",
        "    # start by using binary values only:\n",
        "    counts = Counter(words)\n",
        "    return {w: counts[w]/sum(counts.values()) for w in counts.keys()}#{w: 1.0/len(words) for w in words}"
      ],
      "execution_count": null,
      "outputs": []
    },
    {
      "cell_type": "code",
      "metadata": {
        "id": "s7qTDR-NxEUc",
        "outputId": "98ba8db9-dd65-4c88-e867-316d45eb18d1",
        "colab": {
          "base_uri": "https://localhost:8080/",
          "height": 35
        }
      },
      "source": [
        "toFeatureVector([\"a\", \"a\", \"b\", \"c\"])"
      ],
      "execution_count": null,
      "outputs": [
        {
          "output_type": "execute_result",
          "data": {
            "text/plain": [
              "{'a': 0.5, 'b': 0.25, 'c': 0.25}"
            ]
          },
          "metadata": {
            "tags": []
          },
          "execution_count": 17
        }
      ]
    },
    {
      "cell_type": "code",
      "metadata": {
        "id": "ZI6tWmVlxEUe"
      },
      "source": [
        "# TRAINING AND VALIDATING OUR CLASSIFIER\n",
        "def trainClassifier(trainData):\n",
        "    print \"Training Classifier...\"\n",
        "    return SklearnClassifier(LinearSVC(loss='squared_hinge')).train(trainData)\n",
        "\n"
      ],
      "execution_count": null,
      "outputs": []
    },
    {
      "cell_type": "code",
      "metadata": {
        "id": "UXBrP2tWxEUf"
      },
      "source": [
        "# PREDICTING LABELS GIVEN A CLASSIFIER\n",
        "\n",
        "def predictLabels(reviewSamples, classifier):\n",
        "    return classifier.classify_many(map(lambda t: t[0], reviewSamples))\n",
        "\n",
        "def predictLabel(text, classifier):\n",
        "    return classifier.classify(toFeatureVector(preProcess(text)))\n"
      ],
      "execution_count": null,
      "outputs": []
    },
    {
      "cell_type": "code",
      "metadata": {
        "id": "rLVubiyXxEUh"
      },
      "source": [
        "# QUESTION 3\n",
        "\n",
        "def crossValidate(dataset, folds):\n",
        "    shuffle(dataset)\n",
        "    results = []\n",
        "    foldSize = int(len(dataset)/folds)\n",
        "    \n",
        "    for i in range(0,len(dataset),int(foldSize)):\n",
        "        # insert code here that trains and tests on the 10 folds of data in the dataset\n",
        "        print \"Fold start on items %d - %d\" % (i, i+foldSize)\n",
        "        myTestData = dataset[i:i+foldSize]\n",
        "        myTrainData = dataset[:i] + dataset[i+foldSize:]\n",
        "        classifier = trainClassifier(myTrainData)\n",
        "        y_true = map(lambda x: x[1], myTestData)\n",
        "        y_pred = predictLabels(myTestData, classifier)\n",
        "        results.append(precision_recall_fscore_support(y_true, y_pred, average='weighted'))\n",
        "        \n",
        "    avgResults = map(np.mean,zip(*results)[:3])\n",
        "    return avgResults"
      ],
      "execution_count": null,
      "outputs": []
    },
    {
      "cell_type": "code",
      "metadata": {
        "id": "LZk8otc1xEUi",
        "outputId": "8aa6d446-0f34-4025-cd66-c446c4b0a552",
        "colab": {
          "base_uri": "https://localhost:8080/",
          "height": 105
        }
      },
      "source": [
        "# MAIN\n",
        "\n",
        "# loading reviews\n",
        "rawData = [] # the filtered data from the dataset file (should be 21000 samples)\n",
        "trainData = [] # the training data as a percentage of the total dataset (currently 80%, or 16800 samples)\n",
        "testData = [] # the test data as a percentage of the total dataset (currently 20%, or 4200 samples)\n",
        "\n",
        "# references to the data files\n",
        "# reviewPath = '../../labs_1_and_2/Lab_2_solutions/amazon_reviews.txt'\n",
        "reviewPath = '/amazon_reviews.txt'\n",
        "\n",
        "# do the actual stuff\n",
        "print \"Now %d rawData, %d trainData, %d testData\" % (len(rawData), len(trainData), len(testData))\n",
        "print \"Preparing the dataset...\"\n",
        "loadData(reviewPath)\n",
        "print \"Now %d rawData, %d trainData, %d testData\" % (len(rawData), len(trainData), len(testData))\n",
        "print \"Preparing training and test data...\"\n",
        "splitData(0.8)\n",
        "print \"Now %d rawData, %d trainData, %d testData\" % (len(rawData), len(trainData), len(testData))\n"
      ],
      "execution_count": null,
      "outputs": [
        {
          "output_type": "stream",
          "text": [
            "Now 0 rawData, 0 trainData, 0 testData\n",
            "Preparing the dataset...\n",
            "Now 21000 rawData, 0 trainData, 0 testData\n",
            "Preparing training and test data...\n",
            "Now 21000 rawData, 16800 trainData, 4200 testData\n"
          ],
          "name": "stdout"
        }
      ]
    },
    {
      "cell_type": "code",
      "metadata": {
        "id": "OXmtzqrgxEUk",
        "outputId": "b276a89b-752e-4813-f7ad-4bc3f01aabe3"
      },
      "source": [
        "cv_results = crossValidate(trainData, 10)\n",
        "print cv_results"
      ],
      "execution_count": null,
      "outputs": [
        {
          "output_type": "stream",
          "text": [
            "Fold start on items 0 - 1680\n",
            "Training Classifier...\n",
            "Fold start on items 1680 - 3360\n",
            "Training Classifier...\n",
            "Fold start on items 3360 - 5040\n",
            "Training Classifier...\n",
            "Fold start on items 5040 - 6720\n",
            "Training Classifier...\n",
            "Fold start on items 6720 - 8400\n",
            "Training Classifier...\n",
            "Fold start on items 8400 - 10080\n",
            "Training Classifier...\n",
            "Fold start on items 10080 - 11760\n",
            "Training Classifier...\n",
            "Fold start on items 11760 - 13440\n",
            "Training Classifier...\n",
            "Fold start on items 13440 - 15120\n",
            "Training Classifier...\n",
            "Fold start on items 15120 - 16800\n",
            "Training Classifier...\n",
            "[0.656825074400999, 0.655892857142857, 0.6557201803942636]\n"
          ],
          "name": "stdout"
        }
      ]
    },
    {
      "cell_type": "code",
      "metadata": {
        "id": "6EGL7-LFxEUm",
        "outputId": "39bfb24c-1ce5-4a8b-c47a-8ac6e7c0cb12",
        "colab": {
          "base_uri": "https://localhost:8080/",
          "height": 143
        }
      },
      "source": [
        "print(testData[0])\n",
        "classifier = trainClassifier(trainData)\n",
        "testTrue = map(lambda t: t[1], testData)\n",
        "testPred = predictLabels(testData, classifier)\n",
        "finalScores = precision_recall_fscore_support(testTrue, testPred, average='weighted')\n",
        "print \"Done training!\"\n",
        "print \"Precision: %f\\nRecall: %f\\nF Score:%f\" % finalScores[:3]\n"
      ],
      "execution_count": null,
      "outputs": [
        {
          "output_type": "stream",
          "text": [
            "({u'little': 0.09090909090909091, u'whenever': 0.09090909090909091, u'always': 0.09090909090909091, u'hershey': 0.09090909090909091, u'one': 0.09090909090909091, u'assortment': 0.09090909090909091, u'holiday': 0.09090909090909091, u'come': 0.09090909090909091, u'excited': 0.09090909090909091, u'best': 0.09090909090909091, u'really': 0.09090909090909091}, 'fake')\n",
            "Training Classifier...\n",
            "Done training!\n",
            "Precision: 0.602309\n",
            "Recall: 0.601905\n",
            "F Score:0.601511\n"
          ],
          "name": "stdout"
        }
      ]
    },
    {
      "cell_type": "code",
      "metadata": {
        "id": "ZQXWhMjXxEUn"
      },
      "source": [
        ""
      ],
      "execution_count": null,
      "outputs": []
    }
  ]
}